{
 "cells": [
  {
   "cell_type": "code",
   "execution_count": 3,
   "metadata": {},
   "outputs": [
    {
     "name": "stdout",
     "output_type": "stream",
     "text": [
      "In a world where wagging tails made wishes come true, a tiny puppy named Whiskers discovered he had a magical bark that painted rainbows across the sky, spreading joy wherever he pranced.\n",
      "In a cozy cottage at the edge of the forest, a playful puppy named Pippin discovered a magical, talking stick that could fetch itself.\n",
      "In a land where rainbows danced across the sky, a mischievous puppy named Pippin discovered that his wagging tail could paint the dull town in vibrant colors, bringing smiles and giggles to all its inhabitants.\n",
      "In a world where rainbows arced over fields of wishes, a tiny puppy named Whiskers discovered that with every wag of his tail, he spread invisible happiness to every heart he passed.\n",
      "Once upon a time, a playful puppy named Max discovered a magical collar that allowed him to understand every language of the animals in the enchanted forest.\n",
      "In a world where rainbows whispered secrets, a curious puppy named Luna discovered a magical pawprint trail that led her to the land of talking trees and giggling stars.\n",
      "Once upon a time, in a world where raindrops were made of giggles and sunshine sang lullabies, a curious puppy named Max discovered a magical bone that granted him the power to spread joy like confetti with every wag of his tail.\n",
      "In a world where giggles bounce off petal-pink clouds, a mischievous puppy named Sprinkle discovered a secret door beneath the sunflower patch that led to a kingdom of rainbow bones and dancing bubbles.\n",
      "In a magical meadow where wishes come true, a fluffy puppy named Whiskers discovered his tail had the power to paint rainbows across the sky.\n",
      "Once upon a time, in a world where tennis balls grew on trees, a little puppy named Max discovered he could make the stars twinkle brighter with just one wag of his tail.\n"
     ]
    }
   ],
   "source": [
    "from openai import OpenAI\n",
    "import time  # Import the time module to use sleep\n",
    "\n",
    "def get_story(iterations=1):\n",
    "    client = OpenAI()\n",
    "    stories = []\n",
    "    \n",
    "    for _ in range(iterations):\n",
    "        completion = client.chat.completions.create(\n",
    "            model=\"gpt-4o\", # https://platform.openai.com/docs/models\n",
    "            messages=[\n",
    "                {\"role\": \"system\", \"content\": # This is the system prompt, it's where you explain to the model what you want it to do - the user doesnt see this\n",
    "                    \"\"\"\n",
    "                    You are a childrens story teller. \n",
    "                    You will be given a topic and you must tell a one sentence creative story about that topic.\n",
    "                    \"\"\"\n",
    "                 },\n",
    "                {\"role\": \"user\", \"content\": # This is the user prompt, it's the words or question the user provides\n",
    "                    \"\"\"\n",
    "                    Tell me a story about a puppy\n",
    "                    \"\"\"\n",
    "                 }\n",
    "                 # The system prompt and user prompt are combined, and then sent to the model\n",
    "            ]\n",
    "        )\n",
    "        stories.append(completion.choices[0].message.content)\n",
    "    \n",
    "    return stories\n",
    "\n",
    "# Example usage\n",
    "results = get_story(iterations=10)  # Change the number for more or fewer stories\n",
    "for story in results:\n",
    "    print(story)\n",
    "    time.sleep(0.5)  # Add a 0.5 second delay between iterations"
   ]
  }
 ],
 "metadata": {
  "kernelspec": {
   "display_name": "venv",
   "language": "python",
   "name": "python3"
  },
  "language_info": {
   "codemirror_mode": {
    "name": "ipython",
    "version": 3
   },
   "file_extension": ".py",
   "mimetype": "text/x-python",
   "name": "python",
   "nbconvert_exporter": "python",
   "pygments_lexer": "ipython3",
   "version": "3.12.2"
  }
 },
 "nbformat": 4,
 "nbformat_minor": 2
}
